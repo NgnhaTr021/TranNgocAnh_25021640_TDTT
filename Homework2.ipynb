{
 "cells": [
  {
   "cell_type": "code",
   "execution_count": null,
   "id": "d94c8d05",
   "metadata": {},
   "outputs": [],
   "source": [
    "#B1\n",
    "a,b=map(int,input().split())\n",
    "s=a*b\n",
    "c=(a+b)*2\n",
    "print(\"Dien tich= \",s)\n",
    "print(\"Chu vi= \",c)"
   ]
  },
  {
   "cell_type": "code",
   "execution_count": null,
   "id": "b2669f13",
   "metadata": {},
   "outputs": [],
   "source": [
    "#B2\n",
    "r=float(input())\n",
    "c=3.14*2*r\n",
    "s=r**2*3.14\n",
    "print(\"Chu vi= \",c)\n",
    "print(\"Dien tich= \",s)"
   ]
  },
  {
   "cell_type": "code",
   "execution_count": null,
   "id": "58ec0e4e",
   "metadata": {},
   "outputs": [
    {
     "name": "stdout",
     "output_type": "stream",
     "text": [
      "Tam giac vuong\n",
      "Chu vi=  12.0\n",
      "Dien tich=  6.0\n"
     ]
    }
   ],
   "source": [
    "#B3\n",
    "a,b,c=map(float, input().split())\n",
    "chuvi=a+b+c\n",
    "p=(a+b+c)/2\n",
    "s=(p*(p-a)*(p-b)*(p-c))**0.5\n",
    "while a+b>c and b+c>a and a+c>b:\n",
    "    if a==b and b==c:\n",
    "        print(\"Tam giac deu\")\n",
    "    elif a==b or b==c or a==c:\n",
    "        print(\"Tam giac can\")\n",
    "    elif a**2+b**2==c**2 or b**2+c**2==a**2 or a**2+c**2==b**2:\n",
    "        print(\"Tam giac vuong\")\n",
    "    else:\n",
    "        print(\"Tam giac thuong\")\n",
    "    break\n",
    "else:\n",
    "    print(\"Khong la ba canh cua tam giac\")\n",
    "print(\"Chu vi= \",chuvi)\n",
    "print(\"Dien tich= \",s)"
   ]
  },
  {
   "cell_type": "code",
   "execution_count": null,
   "id": "a6664b8c",
   "metadata": {},
   "outputs": [
    {
     "name": "stdout",
     "output_type": "stream",
     "text": [
      "Nghiem=  -2.0\n"
     ]
    }
   ],
   "source": [
    "#B4\n",
    "a,b=map(float,input().split())\n",
    "x=-b/a\n",
    "print(\"Nghiem cua PT ax+b=0 la \",x)"
   ]
  },
  {
   "cell_type": "code",
   "execution_count": null,
   "id": "b531e8a2",
   "metadata": {},
   "outputs": [],
   "source": [
    "#B5\n",
    "a,b=map(int,input().split())\n",
    "delta=b**2-4*a*c\n",
    "if delta<0:\n",
    "    print(\"Phuong trinh ax^2+bx+c=0 vo nghiem\")\n",
    "if delta==0:\n",
    "    x=-b/(2*a)\n",
    "    print(\"Phuong trinh ax^2+bx+c=0 co nghiem kep x1=x2=\",x)\n",
    "if delta>0:\n",
    "    x1=(-b-delta**0.5)/(2*a)\n",
    "    x2=(-b+delta**0.5)/(2*a)\n",
    "    print(\"Phuong trinh ax^2+bx+c=0 co hai nghiem phan biet x1=\",x1,\" va x2=\",x2)"
   ]
  },
  {
   "cell_type": "code",
   "execution_count": null,
   "id": "239c6ad1",
   "metadata": {},
   "outputs": [],
   "source": [
    "#B6\n",
    "a,b,c,d=map(float,input().split())\n",
    "e=max(a,b,c,d)\n",
    "print(e)"
   ]
  },
  {
   "cell_type": "code",
   "execution_count": null,
   "id": "d64df06a",
   "metadata": {},
   "outputs": [],
   "source": [
    "#B7\n",
    "a,b,c,d=map(float,input().split())\n",
    "e=min(a,b,c,d)\n",
    "print(e)"
   ]
  },
  {
   "cell_type": "code",
   "execution_count": null,
   "id": "842e5dc1",
   "metadata": {},
   "outputs": [],
   "source": [
    "#B8\n",
    "a, b, m = map(float, input().split())\n",
    "c, d, n = map(float, input().split())\n",
    "D = a*d - b*c\n",
    "if D != 0:\n",
    "    x = (m*d - b*n) / D\n",
    "    y = (a*n - m*c) / D\n",
    "    print(\"Hệ có nghiệm duy nhất:\")\n",
    "    print(\"x =\", x, \", y =\", y)\n",
    "else:\n",
    "    if a*n == m*c and b*n == m*d:\n",
    "        print(\"Hệ có vô số nghiệm\")\n",
    "    else:\n",
    "        print(\"Hệ vô nghiệm\")\n"
   ]
  },
  {
   "cell_type": "code",
   "execution_count": 12,
   "id": "8df94631",
   "metadata": {},
   "outputs": [
    {
     "name": "stdout",
     "output_type": "stream",
     "text": [
      "Bay gio la 65 gio 3 phut 54 giay\n"
     ]
    }
   ],
   "source": [
    "#B9\n",
    "x=int(input())\n",
    "h=x//3600\n",
    "p=x//60%60\n",
    "s=x%60\n",
    "print(\"Bay gio la\",h,\"gio\",p,\"phut\",s,\"giay\")"
   ]
  },
  {
   "cell_type": "code",
   "execution_count": null,
   "id": "60e9b35e",
   "metadata": {},
   "outputs": [],
   "source": [
    "#B10\n",
    "import math\n",
    "a,b,r=map(float,input().split())\n",
    "x,y=map(float,input().split())\n",
    "if math.isclose((x-a)**2+(y-b)**2,r**2)\\:\n",
    "    print(\"A thuoc duong tron\")\n",
    "else:\n",
    "    print(\"A khong thuoc duong tron\")"
   ]
  },
  {
   "cell_type": "code",
   "execution_count": null,
   "id": "d02938bd",
   "metadata": {},
   "outputs": [],
   "source": [
    "#B11\n",
    "x,y=map(float,input().split())\n",
    "print(x**y)"
   ]
  }
 ],
 "metadata": {
  "kernelspec": {
   "display_name": "Python 3",
   "language": "python",
   "name": "python3"
  },
  "language_info": {
   "codemirror_mode": {
    "name": "ipython",
    "version": 3
   },
   "file_extension": ".py",
   "mimetype": "text/x-python",
   "name": "python",
   "nbconvert_exporter": "python",
   "pygments_lexer": "ipython3",
   "version": "3.13.7"
  }
 },
 "nbformat": 4,
 "nbformat_minor": 5
}

{
 "cells": [
  {
   "cell_type": "code",
   "execution_count": null,
   "id": "04877366-05d3-4501-a475-bffc59489b90",
   "metadata": {},
   "outputs": [],
   "source": [
    "#B1\n",
    "for i in range(1,100,2):\n",
    "    print(i)"
   ]
  },
  {
   "cell_type": "code",
   "execution_count": null,
   "id": "7a166723-45a6-4836-94f4-c5e17d817a59",
   "metadata": {},
   "outputs": [],
   "source": [
    "#B2\n",
    "for i in range(3,100,3):\n",
    "    print(i)"
   ]
  },
  {
   "cell_type": "code",
   "execution_count": null,
   "id": "610970a8-819b-423a-ac8d-957366066c73",
   "metadata": {},
   "outputs": [],
   "source": [
    "#B3\n",
    "a=int(input())\n",
    "for i in range(1,10):\n",
    "    print(f\"{a}\"\" *\",i,\"=\",a*i)"
   ]
  },
  {
   "cell_type": "code",
   "execution_count": null,
   "id": "fc1c928d-0722-4d7a-b534-f2f7c03eb660",
   "metadata": {},
   "outputs": [],
   "source": [
    "#B4\n",
    "h=int(input())\n",
    "for i in range(1, h + 1):\n",
    "    for j in range(1, 2 * h):\n",
    "        if j == h - i + 1 or j == h + i - 1 or i == h:\n",
    "            print(\"*\", end=\"\")\n",
    "        else:\n",
    "            print(\" \", end=\"\")\n",
    "    print()\n"
   ]
  },
  {
   "cell_type": "code",
   "execution_count": null,
   "id": "a84d4d87-2dbc-4c00-95c7-7da6a9c5ab9f",
   "metadata": {},
   "outputs": [],
   "source": [
    "#B5\n",
    "n=int(input())\n",
    "s=0\n",
    "for i in range(1,n+1):\n",
    "    s+=i\n",
    "print(s)"
   ]
  },
  {
   "cell_type": "code",
   "execution_count": null,
   "id": "418cfba6-a460-4f81-b2c5-a89a96bc5477",
   "metadata": {},
   "outputs": [],
   "source": [
    "#B6\n",
    "a=int(input())\n",
    "for i in range(1,a+1):\n",
    "    if a%i==0:\n",
    "        print(i)"
   ]
  },
  {
   "cell_type": "code",
   "execution_count": null,
   "id": "d9d99816-8aa8-468c-9d28-50c0c09847f8",
   "metadata": {},
   "outputs": [],
   "source": [
    "#B7\n",
    "a=int(input())\n",
    "count=0\n",
    "for i in range(1,a+1):\n",
    "    if a%i==0:\n",
    "        count+=1\n",
    "print(count)"
   ]
  },
  {
   "cell_type": "code",
   "execution_count": null,
   "id": "c78ccfc6-a1da-4ec1-af81-e78eb03f13c0",
   "metadata": {},
   "outputs": [],
   "source": [
    "#B8\n",
    "a=int(input())\n",
    "b=int(input())\n",
    "if a>b:\n",
    "    c=a\n",
    "else:\n",
    "    c=b\n",
    "for i in range(1,c):\n",
    "    if a%i==0 and b%i==0:\n",
    "        print(i)"
   ]
  },
  {
   "cell_type": "code",
   "execution_count": null,
   "id": "c1786962-3d9c-4e49-89c4-f61c25bcf0f8",
   "metadata": {},
   "outputs": [],
   "source": [
    "#B9\n",
    "n=int(input())\n",
    "temp=False\n",
    "for i in range (n+1):\n",
    "    if i**2==n:\n",
    "        temp=True\n",
    "if temp:\n",
    "    print(\"Yes\")\n",
    "if not temp:\n",
    "    print(\"No\")"
   ]
  },
  {
   "cell_type": "code",
   "execution_count": null,
   "id": "c0eb6a05-1010-492a-87f4-e7ace9b4cec3",
   "metadata": {},
   "outputs": [],
   "source": [
    "#B10\n",
    "a=int(input())\n",
    "b=int(input())\n",
    "tonga=0\n",
    "tongb=0\n",
    "for i in range(1,a):\n",
    "    if a%i==0:\n",
    "        tonga+=i\n",
    "for j in range(1,b):\n",
    "    if b%j==0:\n",
    "        tongb+=j\n",
    "if tonga==b and tongb==a:\n",
    "    print(\"True\")\n",
    "else:\n",
    "    print(\"False\")"
   ]
  },
  {
   "cell_type": "code",
   "execution_count": null,
   "id": "b92dfc9e-df2f-4f04-a2bb-f0ec0f2505f0",
   "metadata": {},
   "outputs": [],
   "source": [
    "#B11\n",
    "a=int(input())\n",
    "while a<0:\n",
    "    a=int(input())\n",
    "else:\n",
    "    print(\"Bạn nhập đúng quy tắc\")"
   ]
  },
  {
   "cell_type": "code",
   "execution_count": 2,
   "id": "bc4f5eb4-a67a-440e-8970-1bb9a237d521",
   "metadata": {},
   "outputs": [
    {
     "name": "stdin",
     "output_type": "stream",
     "text": [
      " 10\n"
     ]
    },
    {
     "name": "stdout",
     "output_type": "stream",
     "text": [
      "3\n"
     ]
    }
   ],
   "source": [
    "#B12\n",
    "n=int(input())\n",
    "s=0\n",
    "k=0\n",
    "while s<n:\n",
    "    k+=1\n",
    "    s+=k\n",
    "if s!=n:\n",
    "    print(k)\n",
    "else:\n",
    "    print(k-1)"
   ]
  },
  {
   "cell_type": "code",
   "execution_count": null,
   "id": "13187710-8bc6-4d1a-b649-f57ab3e1b464",
   "metadata": {},
   "outputs": [],
   "source": [
    "#B13\n",
    "A=int(input())\n",
    "n=0\n",
    "s=0\n",
    "while s<A:\n",
    "    n+=1\n",
    "    s+=1/n\n",
    "print(n)"
   ]
  },
  {
   "cell_type": "code",
   "execution_count": 11,
   "id": "a269f725-418d-4f62-b14d-7ad750097049",
   "metadata": {},
   "outputs": [
    {
     "name": "stdin",
     "output_type": "stream",
     "text": [
      " 456\n",
      " 7\n",
      " 8\n",
      " 9\n",
      " -1\n"
     ]
    },
    {
     "name": "stdout",
     "output_type": "stream",
     "text": [
      "456\n",
      "7\n"
     ]
    }
   ],
   "source": [
    "#B14\n",
    "n=int(input())\n",
    "max=n\n",
    "min=n\n",
    "while n!=-1:\n",
    "    n=int(input())\n",
    "    if min-n>0 and n!=-1:\n",
    "        min=n\n",
    "    if max-n<0 and n!=-1:\n",
    "        max=n\n",
    "print(max)\n",
    "print(min)"
   ]
  },
  {
   "cell_type": "code",
   "execution_count": 14,
   "id": "3687d863-ab6e-4a4a-af09-b40ce2718048",
   "metadata": {},
   "outputs": [
    {
     "name": "stdin",
     "output_type": "stream",
     "text": [
      " 123\n"
     ]
    },
    {
     "name": "stdout",
     "output_type": "stream",
     "text": [
      "3\n"
     ]
    }
   ],
   "source": [
    "#B15\n",
    "n=int(input())\n",
    "count=1\n",
    "for i in range(1,n):\n",
    "    if n//(10**i) >0:\n",
    "        count+=1\n",
    "print(count)"
   ]
  },
  {
   "cell_type": "code",
   "execution_count": 26,
   "id": "137e4920-d70d-4577-bdbb-f5e7baa6e401",
   "metadata": {},
   "outputs": [
    {
     "name": "stdin",
     "output_type": "stream",
     "text": [
      " 412365789\n"
     ]
    },
    {
     "name": "stdout",
     "output_type": "stream",
     "text": [
      "Số chữ số chẵn: 4\n",
      "Số chữ số lẻ: 5\n"
     ]
    }
   ],
   "source": [
    "#B16\n",
    "n=int(input())\n",
    "even=0\n",
    "odd=0\n",
    "while n>0:\n",
    "    if (n%10)%2==0:\n",
    "        even+=1\n",
    "    if (n%10)%2!=0:\n",
    "        odd+=1\n",
    "    n=n//10\n",
    "print(\"Số chữ số chẵn:\",even)\n",
    "print(\"Số chữ số lẻ:\",odd)"
   ]
  },
  {
   "cell_type": "code",
   "execution_count": 7,
   "id": "f3926fea-5341-4030-beb2-ff687344bd87",
   "metadata": {},
   "outputs": [
    {
     "name": "stdin",
     "output_type": "stream",
     "text": [
      " 123456\n"
     ]
    },
    {
     "name": "stdout",
     "output_type": "stream",
     "text": [
      "21\n"
     ]
    }
   ],
   "source": [
    "#B17\n",
    "n=int(input())\n",
    "a=0\n",
    "while n>0:\n",
    "    a+=n%10\n",
    "    n=n//10\n",
    "print(a)"
   ]
  },
  {
   "cell_type": "code",
   "execution_count": 9,
   "id": "0abca3ae-8421-4958-9114-b29fc86c76f1",
   "metadata": {},
   "outputs": [
    {
     "name": "stdin",
     "output_type": "stream",
     "text": [
      " 3\n"
     ]
    },
    {
     "name": "stdout",
     "output_type": "stream",
     "text": [
      "No\n"
     ]
    }
   ],
   "source": [
    "#B18\n",
    "n=int(input())\n",
    "temp=False\n",
    "for i in range(n):\n",
    "    if i**3==n:\n",
    "        temp=True\n",
    "if temp:\n",
    "    print(\"Yes\")\n",
    "if not temp:\n",
    "    print(\"No\")"
   ]
  },
  {
   "cell_type": "code",
   "execution_count": 8,
   "id": "1338ab53-544f-422f-84ce-d524b8e51b22",
   "metadata": {},
   "outputs": [
    {
     "name": "stdin",
     "output_type": "stream",
     "text": [
      " 12\n"
     ]
    },
    {
     "name": "stdout",
     "output_type": "stream",
     "text": [
      "8\n"
     ]
    }
   ],
   "source": [
    "#B19\n",
    "A=int(input())\n",
    "a=1\n",
    "b=1\n",
    "while b<A:\n",
    "    a=a+b\n",
    "    if a>A:\n",
    "        break\n",
    "    b=b+a\n",
    "print(b)"
   ]
  },
  {
   "cell_type": "code",
   "execution_count": 33,
   "id": "ff8ebace-b5cc-4fcd-bc65-b7614d8ce6ad",
   "metadata": {},
   "outputs": [
    {
     "name": "stdin",
     "output_type": "stream",
     "text": [
      " 123456789\n"
     ]
    },
    {
     "name": "stdout",
     "output_type": "stream",
     "text": [
      "4\n"
     ]
    }
   ],
   "source": [
    "#B20\n",
    "n=int(input())\n",
    "count=0\n",
    "temp=False\n",
    "while n>0:\n",
    "    for i in range(2,n%10):\n",
    "        if (n%10)%i==0:\n",
    "            temp=False\n",
    "            break\n",
    "        elif (n%10)%i!=0:\n",
    "            temp=True\n",
    "    if temp:\n",
    "        count+=1\n",
    "    if n==1:\n",
    "        count-=1\n",
    "    n=n//10\n",
    "print(count)"
   ]
  },
  {
   "cell_type": "code",
   "execution_count": null,
   "id": "dc250a24-162f-4914-bc6e-13725fdf1741",
   "metadata": {},
   "outputs": [],
   "source": []
  }
 ],
 "metadata": {
  "kernelspec": {
   "display_name": "Python [conda env:base] *",
   "language": "python",
   "name": "conda-base-py"
  },
  "language_info": {
   "codemirror_mode": {
    "name": "ipython",
    "version": 3
   },
   "file_extension": ".py",
   "mimetype": "text/x-python",
   "name": "python",
   "nbconvert_exporter": "python",
   "pygments_lexer": "ipython3",
   "version": "3.13.5"
  }
 },
 "nbformat": 4,
 "nbformat_minor": 5
}

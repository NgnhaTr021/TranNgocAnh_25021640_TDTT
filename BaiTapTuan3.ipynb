{
 "cells": [
  {
   "cell_type": "code",
   "execution_count": null,
   "id": "633ce83d",
   "metadata": {},
   "outputs": [],
   "source": [
    "#W3A2\n",
    "a=input()\n",
    "b=input()\n",
    "a^=b\n",
    "b^=a\n",
    "a^=b\n",
    "print(a)\n",
    "print(b)"
   ]
  },
  {
   "cell_type": "code",
   "execution_count": 1,
   "id": "9ff0d48b",
   "metadata": {},
   "outputs": [
    {
     "name": "stdout",
     "output_type": "stream",
     "text": [
      "Yes\n"
     ]
    }
   ],
   "source": [
    "#W3A3\n",
    "n=int(input())\n",
    "if n & (n-1)==0:\n",
    "    print(\"Yes\")"
   ]
  },
  {
   "cell_type": "code",
   "execution_count": 2,
   "id": "20df8f12",
   "metadata": {},
   "outputs": [
    {
     "name": "stdout",
     "output_type": "stream",
     "text": [
      "1\n"
     ]
    }
   ],
   "source": [
    "#W3A4\n",
    "from math import*\n",
    "m=int(input())\n",
    "n=int(input())\n",
    "print(floor(m/n))"
   ]
  },
  {
   "cell_type": "code",
   "execution_count": null,
   "id": "465a350c",
   "metadata": {},
   "outputs": [],
   "source": [
    "#W3A5\n",
    "from math import*\n",
    "m=int(input())\n",
    "n=int(input())\n",
    "print(ceil(m/n))"
   ]
  },
  {
   "cell_type": "code",
   "execution_count": 6,
   "id": "60a25b84",
   "metadata": {},
   "outputs": [
    {
     "name": "stdout",
     "output_type": "stream",
     "text": [
      "Even\n"
     ]
    }
   ],
   "source": [
    "#W3A6\n",
    "n=int(input())\n",
    "while n>0:\n",
    "    if n%2==0:\n",
    "        print(\"Even\")\n",
    "    else:\n",
    "        print(\"Odd\")\n",
    "    break"
   ]
  },
  {
   "cell_type": "code",
   "execution_count": null,
   "id": "e13699fe",
   "metadata": {},
   "outputs": [],
   "source": [
    "#W3A7\n",
    "a=int(input())\n",
    "b=int(input())\n",
    "if a<0 and b<0:\n",
    "    print(\"Yes\")\n",
    "else:\n",
    "    print(\"No\")"
   ]
  },
  {
   "cell_type": "code",
   "execution_count": 7,
   "id": "3d0c7fe4",
   "metadata": {},
   "outputs": [
    {
     "name": "stdout",
     "output_type": "stream",
     "text": [
      "True\n"
     ]
    }
   ],
   "source": [
    "#W3A8\n",
    "a=str(input())\n",
    "b=str(input())\n",
    "if len(a)>len(b):\n",
    "    print(\"True\")\n",
    "else:\n",
    "    print(\"False\")"
   ]
  },
  {
   "cell_type": "code",
   "execution_count": 8,
   "id": "6cbdaa13",
   "metadata": {},
   "outputs": [
    {
     "name": "stdout",
     "output_type": "stream",
     "text": [
      "Yes\n"
     ]
    }
   ],
   "source": [
    "#W3A9\n",
    "a,b,c=map(int,input().split())\n",
    "if a+b>c and b+c>a and a+c>b:\n",
    "    print(\"Yes\")\n",
    "else:\n",
    "    print(\"No\")"
   ]
  },
  {
   "cell_type": "code",
   "execution_count": 9,
   "id": "a6262497",
   "metadata": {},
   "outputs": [
    {
     "name": "stdout",
     "output_type": "stream",
     "text": [
      "6\n"
     ]
    }
   ],
   "source": [
    "#W3A10\n",
    "a,b,c,d=map(int,input().split())\n",
    "x=[a,b,c,d]\n",
    "print(max(x))"
   ]
  },
  {
   "cell_type": "code",
   "execution_count": null,
   "id": "7a83ecbe",
   "metadata": {},
   "outputs": [],
   "source": [
    "#W3A11\n",
    "a,b,c=map(float, input().split())\n",
    "while a+b>c and b+c>a and a+c>b:\n",
    "    if a==b and b==c:\n",
    "        print(\"Tam giac deu\")\n",
    "    elif a==b or b==c or a==c:\n",
    "        print(\"Tam giac can\")\n",
    "    elif a**2+b**2==c**2 or b**2+c**2==a**2 or a**2+c**2==b**2:\n",
    "        print(\"Tam giac vuong\")\n",
    "    else:\n",
    "        print(\"Tam giac thuong\")\n",
    "    break\n",
    "else:\n",
    "    print(\"Khong phai tam giac\")"
   ]
  },
  {
   "cell_type": "code",
   "execution_count": null,
   "id": "1ebfb4cf",
   "metadata": {},
   "outputs": [],
   "source": [
    "#W3A12\n",
    "year=int(input())\n",
    "if (year%4==0 and year%100!=0) or year%400==0:\n",
    "    print(\"Yes\")\n",
    "else:\n",
    "    print(\"No\")"
   ]
  },
  {
   "cell_type": "code",
   "execution_count": null,
   "id": "8c58e038",
   "metadata": {},
   "outputs": [],
   "source": [
    "#W3A15\n",
    "a,b=map(float,input().split())\n",
    "x=-b/a\n",
    "print(f\"{x:.2f}\")"
   ]
  },
  {
   "cell_type": "code",
   "execution_count": 11,
   "id": "88465007",
   "metadata": {},
   "outputs": [
    {
     "name": "stdout",
     "output_type": "stream",
     "text": [
      "Gioi\n"
     ]
    }
   ],
   "source": [
    "#W3A15\n",
    "avr=float(input())\n",
    "if avr>=8:\n",
    "    print(\"Gioi\")\n",
    "elif avr>=6.5:\n",
    "    print(\"Kha\")\n",
    "elif avr>=5.0:\n",
    "    print(\"Trung binh\")\n",
    "elif avr<5.0:\n",
    "    print(\"Yeu\")"
   ]
  },
  {
   "cell_type": "code",
   "execution_count": 33,
   "id": "519d7543",
   "metadata": {},
   "outputs": [
    {
     "name": "stdout",
     "output_type": "stream",
     "text": [
      "3.0 4.0 4.0\n"
     ]
    }
   ],
   "source": [
    "#W3A16\n",
    "realnumber=float(input())\n",
    "down=realnumber//1\n",
    "up=(realnumber//1)+1\n",
    "if realnumber<((realnumber//1)+0.5):\n",
    "    realnumber=down\n",
    "else:\n",
    "    realnumber=up\n",
    "print(down,up,realnumber)"
   ]
  },
  {
   "cell_type": "code",
   "execution_count": null,
   "id": "cf0ad111",
   "metadata": {},
   "outputs": [],
   "source": [
    "#W3A17\n",
    "a,b,c,d=map(float,input().split())\n",
    "if a*c=b**2 and b*d=c**2:\n",
    "    print(\"Yes\")\n",
    "else:\n",
    "    print(\"No\")"
   ]
  }
 ],
 "metadata": {
  "kernelspec": {
   "display_name": "base",
   "language": "python",
   "name": "python3"
  },
  "language_info": {
   "codemirror_mode": {
    "name": "ipython",
    "version": 3
   },
   "file_extension": ".py",
   "mimetype": "text/x-python",
   "name": "python",
   "nbconvert_exporter": "python",
   "pygments_lexer": "ipython3",
   "version": "3.13.5"
  }
 },
 "nbformat": 4,
 "nbformat_minor": 5
}

{
 "cells": [
  {
   "cell_type": "code",
   "execution_count": 1,
   "id": "9c14b39e",
   "metadata": {},
   "outputs": [
    {
     "name": "stdout",
     "output_type": "stream",
     "text": [
      "4\n"
     ]
    }
   ],
   "source": [
    "#B1\n",
    "n=int(input())\n",
    "print(n*2)"
   ]
  },
  {
   "cell_type": "code",
   "execution_count": 3,
   "id": "4387d381",
   "metadata": {},
   "outputs": [
    {
     "name": "stdout",
     "output_type": "stream",
     "text": [
      "17.44\n"
     ]
    }
   ],
   "source": [
    "#B2\n",
    "pi=3.14\n",
    "a,b,r=map(int,input().split())\n",
    "s=a*b-pi*(r**2)\n",
    "print(f\"{s:.2f}\")\n"
   ]
  },
  {
   "cell_type": "code",
   "execution_count": 8,
   "id": "aad21182",
   "metadata": {},
   "outputs": [
    {
     "name": "stdout",
     "output_type": "stream",
     "text": [
      "a\n"
     ]
    }
   ],
   "source": [
    "#B3\n",
    "kitu=input()\n",
    "if kitu==kitu.upper():\n",
    "    print(kitu.lower())\n",
    "else:\n",
    "    print(kitu.upper())"
   ]
  },
  {
   "cell_type": "code",
   "execution_count": 3,
   "id": "3b6c1dcd",
   "metadata": {},
   "outputs": [
    {
     "name": "stdout",
     "output_type": "stream",
     "text": [
      "{c} là kí tự alphabet\n"
     ]
    }
   ],
   "source": [
    "#B4\n",
    "c=str(input())\n",
    "if c==c.isalpha() or c==c.upper():\n",
    "    print(\"{c} là kí tự alphabet\")\n",
    "else:\n",
    "    print(\"{c} không phải là kí tự alphabet\")"
   ]
  },
  {
   "cell_type": "code",
   "execution_count": 5,
   "id": "d8ea6f9c",
   "metadata": {},
   "outputs": [
    {
     "name": "stdout",
     "output_type": "stream",
     "text": [
      "aA\n"
     ]
    }
   ],
   "source": [
    "#B5\n",
    "c=str(input())\n",
    "if c==c.upper():\n",
    "    print(f\"{c.lower()}{c}\")"
   ]
  },
  {
   "cell_type": "code",
   "execution_count": 13,
   "id": "b4f8b578",
   "metadata": {},
   "outputs": [
    {
     "name": "stdout",
     "output_type": "stream",
     "text": [
      "2.4\n"
     ]
    }
   ],
   "source": [
    "#B6\n",
    "import math\n",
    "a,b,c=map(float,input().split())\n",
    "p=(a+b+c)/2\n",
    "s=math.sqrt((p-a)*(p-b)*(p-c))\n",
    "if a+b>c and abs(a-b)<c:\n",
    "    print(f\"{s:.1f}\")\n",
    "elif a+c>b and abs(a-c)<b:\n",
    "    print(f\"{s:.1f}\")\n",
    "elif b+c>a and abs(b-c)<a:\n",
    "    print(f\"{s:.1f}\")\n",
    "else:\n",
    "    print(\"Khong phai 3 canh cua tam giac\")"
   ]
  },
  {
   "cell_type": "code",
   "execution_count": 15,
   "id": "c7a8797b",
   "metadata": {},
   "outputs": [],
   "source": [
    "#B7\n",
    "chuoi=str(input())\n",
    "if len(chuoi)>=20:\n",
    "    print(chuoi[4])\n",
    "    print(chuoi[8])"
   ]
  },
  {
   "cell_type": "code",
   "execution_count": 23,
   "id": "b5b7739c",
   "metadata": {},
   "outputs": [
    {
     "name": "stdout",
     "output_type": "stream",
     "text": [
      "Ho va ten:  ph\n",
      "Tien phai tra la:  107136\n"
     ]
    }
   ],
   "source": [
    "#B8\n",
    "hoten=str(input('Ten chu ho: '))\n",
    "trc=float(input('Chi so thang truoc: '))\n",
    "sau=float(input('Chi so thang nay: '))\n",
    "print(\"Ho va ten: \",hoten)\n",
    "if sau-trc<=50:\n",
    "    tien=(sau-trc)*1984\n",
    "elif 50<sau-trc<=100:\n",
    "    tien=50*1984+(sau-trc-50)*2050\n",
    "elif 100<sau-trc<=200:\n",
    "    tien=50*1984+50*2050+(sau-trc-100)*2380\n",
    "elif 200<sau-trc<=300:\n",
    "    tien=50*1984+50*2050+100*2380+(sau-trc-200)*2998\n",
    "elif 300<sau-trc<=400:\n",
    "    tien=50*1984+50*2050+100*2380+100*2998+(sau-trc-300)*3350\n",
    "elif sau-trc>400:\n",
    "    tien=50*1984+50*2050+100*2380+100*2998+100*3350+(sau-trc-400)*3460    \n",
    "print(\"Tien phai tra la: \",f'{1.08*tien:.0f}')"
   ]
  },
  {
   "cell_type": "code",
   "execution_count": 2,
   "id": "fc9fd362",
   "metadata": {},
   "outputs": [
    {
     "name": "stdout",
     "output_type": "stream",
     "text": [
      "So le\n"
     ]
    }
   ],
   "source": [
    "#B1\n",
    "so=int(input())\n",
    "if so%2==0:\n",
    "    print(\"So chan\")\n",
    "else:\n",
    "    print(\"So le\")"
   ]
  },
  {
   "cell_type": "code",
   "execution_count": null,
   "id": "b2ea9228",
   "metadata": {},
   "outputs": [],
   "source": [
    "#B2\n",
    "n=int(input())\n",
    "if n%10==5:\n",
    "    print(\"True\")\n",
    "else:\n",
    "    print(\"False\")"
   ]
  },
  {
   "cell_type": "code",
   "execution_count": null,
   "id": "6d760c56",
   "metadata": {},
   "outputs": [],
   "source": [
    "#B3\n",
    "n=int(input())\n",
    "if n%3==0 and n%5==0:\n",
    "    print(\"True\")\n",
    "else:\n",
    "    print(\"False\")"
   ]
  },
  {
   "cell_type": "code",
   "execution_count": null,
   "id": "3c8612df",
   "metadata": {},
   "outputs": [],
   "source": [
    "#B4\n",
    "tuoi=int(input())\n",
    "if tuoi >=18:\n",
    "    print(\"Du tuoi bau cu\")\n",
    "else:\n",
    "    print(\"Chua du tuoi bau cu\")"
   ]
  },
  {
   "cell_type": "code",
   "execution_count": 3,
   "id": "52fe7fca",
   "metadata": {},
   "outputs": [
    {
     "name": "stdout",
     "output_type": "stream",
     "text": [
      "2\n"
     ]
    }
   ],
   "source": [
    "#B5\n",
    "a,b=map(int, input().split())\n",
    "if a>b:\n",
    "    print(a)\n",
    "elif b>a:\n",
    "    print(b)\n",
    "else:\n",
    "    print(\"a=b\")"
   ]
  },
  {
   "cell_type": "code",
   "execution_count": null,
   "id": "33d97b60",
   "metadata": {},
   "outputs": [],
   "source": [
    "#B6\n",
    "x=input()\n",
    "if x==x.isalpha():\n",
    "    print(\"Day la chu cai\")\n",
    "if x==x.isdigit():\n",
    "    print(\"Day la chu so\")"
   ]
  },
  {
   "cell_type": "code",
   "execution_count": null,
   "id": "f2ec425f",
   "metadata": {},
   "outputs": [],
   "source": [
    "#B7\n",
    "n=float(input())\n",
    "if n<5:\n",
    "    print(\"Yeu\")\n",
    "elif 5<=n<6.5:\n",
    "    print(\"Trung Binh\")\n",
    "elif 6.5<=n<8:\n",
    "    print(\"Kha\")\n",
    "elif n>=8:\n",
    "    print(\"Gioi\")"
   ]
  },
  {
   "cell_type": "code",
   "execution_count": null,
   "id": "986050e5",
   "metadata": {},
   "outputs": [],
   "source": [
    "#B8\n",
    "n=int(input())\n",
    "if n%400==0 or (n%4==0 and n%100!=0):\n",
    "    print(\"Nam nhuan\")\n",
    "else:\n",
    "    print(\"Khong phai nam nhuan\")"
   ]
  },
  {
   "cell_type": "code",
   "execution_count": null,
   "id": "16508670",
   "metadata": {},
   "outputs": [
    {
     "name": "stdout",
     "output_type": "stream",
     "text": [
      "Chin\n"
     ]
    }
   ],
   "source": [
    "#B9\n",
    "n=int(input())\n",
    "if 0<=n<=9:\n",
    "    match n:\n",
    "        case 0:\n",
    "            print(\"Khong\")\n",
    "        case 1:\n",
    "            print(\"Mot\")\n",
    "        case 2:\n",
    "            print(\"Hai\")\n",
    "        case 3:\n",
    "            print(\"Ba\")\n",
    "        case 4:\n",
    "            print(\"Bon\")\n",
    "        case 5:\n",
    "            print(\"Nam\")\n",
    "        case 6:\n",
    "            print(\"Sau\")\n",
    "        case 7:\n",
    "            print(\"Bay\")\n",
    "        case 8:\n",
    "            print(\"Tam\")\n",
    "        case 9:\n",
    "            print(\"Chin\")"
   ]
  },
  {
   "cell_type": "code",
   "execution_count": null,
   "id": "b5962ac9",
   "metadata": {},
   "outputs": [],
   "source": [
    "#B10\n",
    "n=float(input('Nhap diem thi: '))\n",
    "if n>=4:\n",
    "    print(\"Qua môn\")\n",
    "else:\n",
    "    print(\"Học lại\")"
   ]
  },
  {
   "cell_type": "code",
   "execution_count": null,
   "id": "86e2554f",
   "metadata": {},
   "outputs": [],
   "source": [
    "#B11\n",
    "namsinh=int(input('Nhap nam sinh: '))\n",
    "tuoi=2025-namsinh\n",
    "if tuoi>18:\n",
    "    print(\"Da du 18 tuoi\")\n",
    "else:\n",
    "    print(\"Chua du 18 tuoi\")"
   ]
  }
 ],
 "metadata": {
  "kernelspec": {
   "display_name": "Python 3",
   "language": "python",
   "name": "python3"
  },
  "language_info": {
   "codemirror_mode": {
    "name": "ipython",
    "version": 3
   },
   "file_extension": ".py",
   "mimetype": "text/x-python",
   "name": "python",
   "nbconvert_exporter": "python",
   "pygments_lexer": "ipython3",
   "version": "3.13.7"
  }
 },
 "nbformat": 4,
 "nbformat_minor": 5
}

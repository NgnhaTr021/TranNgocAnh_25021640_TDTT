{
 "cells": [
  {
   "cell_type": "code",
   "execution_count": null,
   "id": "554e712d",
   "metadata": {},
   "outputs": [
    {
     "name": "stdout",
     "output_type": "stream",
     "text": [
      "Hello World!\n"
     ]
    }
   ],
   "source": [
    "#W2A1\n",
    "print(\"Hello World!\")"
   ]
  },
  {
   "cell_type": "code",
   "execution_count": 3,
   "id": "2e7231b3",
   "metadata": {},
   "outputs": [
    {
     "name": "stdout",
     "output_type": "stream",
     "text": [
      "Xin chao  tran ngoc anh\n"
     ]
    }
   ],
   "source": [
    "#W2A2\n",
    "name=input()\n",
    "print(\"Xin chao \",name)"
   ]
  },
  {
   "cell_type": "code",
   "execution_count": 5,
   "id": "ca989ae5",
   "metadata": {},
   "outputs": [
    {
     "name": "stdout",
     "output_type": "stream",
     "text": [
      "35 29 96 10.67 2"
     ]
    }
   ],
   "source": [
    "#W2A3\n",
    "a=int(input())\n",
    "b=int(input())\n",
    "tong=a+b\n",
    "hieu=a-b\n",
    "tich=a*b\n",
    "chia_lay_nguyen=a/b\n",
    "chia_lay_du=a%b\n",
    "print(tong,hieu,tich,f\"{chia_lay_nguyen:.2f}\",chia_lay_du,end='')"
   ]
  },
  {
   "cell_type": "code",
   "execution_count": 10,
   "id": "5ab7e6a9",
   "metadata": {},
   "outputs": [
    {
     "name": "stdout",
     "output_type": "stream",
     "text": [
      "9.3\n"
     ]
    }
   ],
   "source": [
    "#W2A4\n",
    "a1,b1,c1,a2,b2,a3=map(int,input().split())\n",
    "TB=((a1+b1+c1)+(a2+b2)*2+a3*3)/10\n",
    "print(f\"{TB:.1f}\")"
   ]
  },
  {
   "cell_type": "code",
   "execution_count": 12,
   "id": "2b770955",
   "metadata": {},
   "outputs": [
    {
     "name": "stdout",
     "output_type": "stream",
     "text": [
      "81\n"
     ]
    }
   ],
   "source": [
    "#W2A5\n",
    "a,b=map(int,input().split())\n",
    "luy_thua=a**b\n",
    "print(luy_thua)"
   ]
  },
  {
   "cell_type": "code",
   "execution_count": 1,
   "id": "04e42d6d",
   "metadata": {},
   "outputs": [
    {
     "name": "stdout",
     "output_type": "stream",
     "text": [
      "Mã Unicode của z là: 122\n",
      "Kí tự hoa tương ứng: Z\n",
      "Mã Unicode của Z là: 90\n"
     ]
    }
   ],
   "source": [
    "#W2A6\n",
    "ch = input(\"Nhập một kí tự từ a đến z: \")\n",
    "print(\"Mã Unicode của\", ch, \"là:\", ord(ch))\n",
    "ch_hoa = ch.upper()\n",
    "print(\"Kí tự hoa tương ứng:\", ch_hoa)\n",
    "print(\"Mã Unicode của\", ch_hoa, \"là:\", ord(ch_hoa))"
   ]
  },
  {
   "cell_type": "code",
   "execution_count": 13,
   "id": "ba5ce962",
   "metadata": {},
   "outputs": [
    {
     "name": "stdout",
     "output_type": "stream",
     "text": [
      "507\n",
      "512\n"
     ]
    }
   ],
   "source": [
    "#W2A7\n",
    "A= ((13**2)*3)\n",
    "B= 13**2*3+5\n",
    "print(A)\n",
    "print(B)"
   ]
  },
  {
   "cell_type": "code",
   "execution_count": null,
   "id": "c19baeae",
   "metadata": {},
   "outputs": [
    {
     "name": "stdout",
     "output_type": "stream",
     "text": [
      "89.60\n"
     ]
    }
   ],
   "source": [
    "#W2A8\n",
    "C=int(input())\n",
    "F=9/5*C+32\n",
    "print(f\"{F:.2f}\")"
   ]
  },
  {
   "cell_type": "code",
   "execution_count": 21,
   "id": "8e918f58",
   "metadata": {},
   "outputs": [
    {
     "name": "stdout",
     "output_type": "stream",
     "text": [
      "14.20\n"
     ]
    }
   ],
   "source": [
    "#W2A9\n",
    "x=int(input())\n",
    "tien=10+0.3*x+0.1*x+x\n",
    "print(f\"{tien:.2f}\")"
   ]
  },
  {
   "cell_type": "code",
   "execution_count": 25,
   "id": "a3880e67",
   "metadata": {},
   "outputs": [
    {
     "name": "stdout",
     "output_type": "stream",
     "text": [
      "Hi Duy,Duong and Na\n"
     ]
    }
   ],
   "source": [
    "#W2A10\n",
    "names=input().split()\n",
    "names.reverse()\n",
    "chao=f\"Hi {names[0]},{names[1]} and {names[2]}\"\n",
    "print(chao)"
   ]
  },
  {
   "cell_type": "code",
   "execution_count": 26,
   "id": "c65c43b8",
   "metadata": {},
   "outputs": [
    {
     "name": "stdout",
     "output_type": "stream",
     "text": [
      "18360.0\n"
     ]
    }
   ],
   "source": [
    "#W2A11\n",
    "h=float(input())\n",
    "m=float(input())\n",
    "s=h*3600+m*60\n",
    "print(s)"
   ]
  },
  {
   "cell_type": "code",
   "execution_count": 27,
   "id": "7b9277aa",
   "metadata": {},
   "outputs": [
    {
     "name": "stdout",
     "output_type": "stream",
     "text": [
      "6\n"
     ]
    }
   ],
   "source": [
    "#W2A12\n",
    "n=int(input())\n",
    "sl=(n**n)*6\n",
    "print(sl)"
   ]
  },
  {
   "cell_type": "code",
   "execution_count": 1,
   "id": "a3444518",
   "metadata": {},
   "outputs": [
    {
     "name": "stdout",
     "output_type": "stream",
     "text": [
      "8\n"
     ]
    }
   ],
   "source": [
    "#W2A13\n",
    "a=int(input())\n",
    "b=int(input())\n",
    "c=(a*b)%10\n",
    "print(c)"
   ]
  },
  {
   "cell_type": "code",
   "execution_count": 5,
   "id": "88c349ef",
   "metadata": {},
   "outputs": [
    {
     "name": "stdout",
     "output_type": "stream",
     "text": [
      "4 3\n"
     ]
    }
   ],
   "source": [
    "#w2A14\n",
    "a,b=map(int,input().split())\n",
    "a,b=b,a\n",
    "print(a,b)"
   ]
  },
  {
   "cell_type": "code",
   "execution_count": 6,
   "id": "ef2ea50c",
   "metadata": {},
   "outputs": [
    {
     "name": "stdout",
     "output_type": "stream",
     "text": [
      "số sao thứ n là:  121\n"
     ]
    }
   ],
   "source": [
    "#W2A15\n",
    "n=int(input())\n",
    "s=6*n*(n-1)+1\n",
    "print(\"số sao thứ n là: \",s)"
   ]
  },
  {
   "cell_type": "code",
   "execution_count": null,
   "id": "81a41c16",
   "metadata": {},
   "outputs": [],
   "source": [
    "#W2A16\n",
    "print(\"Spring\\nSummer\\nAutumn\\nWinter\")"
   ]
  },
  {
   "cell_type": "code",
   "execution_count": 8,
   "id": "52936702",
   "metadata": {},
   "outputs": [
    {
     "name": "stdout",
     "output_type": "stream",
     "text": [
      "*\n",
      "***\n",
      "*****\n"
     ]
    }
   ],
   "source": [
    "#W2A17\n",
    "print(\"*\\n***\\n*****\")"
   ]
  },
  {
   "cell_type": "code",
   "execution_count": 14,
   "id": "0ea95e9c",
   "metadata": {},
   "outputs": [
    {
     "name": "stdout",
     "output_type": "stream",
     "text": [
      "### # #    ### ###\n",
      " #  #   #   #   #\n",
      " #  #    #  #   #\n",
      " #  #   #   #   #\n",
      " #  # #     #   #\n"
     ]
    }
   ],
   "source": [
    "#W2A18\n",
    "print(\"### # #    ### ###\\n #  #   #   #   #\\n #  #    #  #   #\\n #  #   #   #   #\\n #  # #     #   #\",)"
   ]
  },
  {
   "cell_type": "code",
   "execution_count": 15,
   "id": "eb54bf03",
   "metadata": {},
   "outputs": [
    {
     "name": "stdout",
     "output_type": "stream",
     "text": [
      "Monday\n",
      "Tuesday\n",
      "Wednesday\n",
      "Thursday\n",
      "Friday\n",
      "Saturday\n",
      "Sunday\n"
     ]
    }
   ],
   "source": [
    "#W2A19\n",
    "print(\"Monday\\nTuesday\\nWednesday\\nThursday\\nFriday\\nSaturday\\nSunday\")"
   ]
  },
  {
   "cell_type": "code",
   "execution_count": 19,
   "id": "28c5720f",
   "metadata": {},
   "outputs": [
    {
     "name": "stdout",
     "output_type": "stream",
     "text": [
      "January\n",
      "Fedruary\n",
      "March\n",
      "April\n",
      "May\n",
      "June\n",
      "July\n",
      "August\n",
      "September\n",
      "October\n",
      "November\n",
      "December\n"
     ]
    }
   ],
   "source": [
    "#W2A20\n",
    "print(\"January\\nFedruary\\nMarch\\nApril\\nMay\\nJune\\nJuly\\nAugust\\nSeptember\\nOctober\\nNovember\\nDecember\")"
   ]
  },
  {
   "cell_type": "code",
   "execution_count": 21,
   "id": "df4d4536",
   "metadata": {},
   "outputs": [
    {
     "name": "stdout",
     "output_type": "stream",
     "text": [
      "Hello, world\n",
      "Hello, world\n",
      "Hello, world\n",
      "Hello, world\n",
      "Hello, world\n",
      "Hello, world\n",
      "Hello, world\n",
      "Hello, world\n",
      "Hello, world\n",
      "Hello, world\n"
     ]
    }
   ],
   "source": [
    "for i in range(10):\n",
    "    print(\"Hello, world\")"
   ]
  }
 ],
 "metadata": {
  "kernelspec": {
   "display_name": "Python 3",
   "language": "python",
   "name": "python3"
  },
  "language_info": {
   "codemirror_mode": {
    "name": "ipython",
    "version": 3
   },
   "file_extension": ".py",
   "mimetype": "text/x-python",
   "name": "python",
   "nbconvert_exporter": "python",
   "pygments_lexer": "ipython3",
   "version": "3.13.7"
  }
 },
 "nbformat": 4,
 "nbformat_minor": 5
}
